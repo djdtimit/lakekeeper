{
 "cells": [
  {
   "cell_type": "code",
   "execution_count": 1,
   "metadata": {},
   "outputs": [],
   "source": [
    "import pyspark\n",
    "from pyspark.conf import SparkConf\n",
    "from pyspark.sql import SparkSession\n",
    "import pandas as pd\n",
    "\n",
    "# This CATALOG_URL works for the \"docker compose\" testing and development environment\n",
    "# Change 'server' if you are not running on \"docker compose\" (f. ex. 'localhost' if Lakekeeper is running locally).\n",
    "CATALOG_URL = \"http://server:8181/catalog\"\n",
    "WAREHOUSE = \"demo\"\n",
    "\n",
    "SPARK_VERSION = pyspark.__version__\n",
    "SPARK_MINOR_VERSION = '.'.join(SPARK_VERSION.split('.')[:2])\n",
    "ICEBERG_VERSION = \"1.6.1\""
   ]
  },
  {
   "cell_type": "code",
   "execution_count": 2,
   "metadata": {},
   "outputs": [],
   "source": [
    "import json\n",
    "t = !curl -s -H 'Content-Type: application/x-www-form-urlencoded' --url 'http://keycloak:8080/realms/iceberg/protocol/openid-connect/token' \\\n",
    "  -d 'grant_type=client_credentials&client_id=spark&client_secret=2OR3eRvYfSZzzZ16MlPd95jhLnOaLM52'\n",
    "t=json.loads(t[0])['access_token']"
   ]
  },
  {
   "cell_type": "code",
   "execution_count": 3,
   "metadata": {},
   "outputs": [
    {
     "data": {
      "text/plain": [
       "b'{\"error\":{\"message\":\"Failed to write file. Please check the storage credentials.\",\"type\":\"FileWrite\",\"code\":424,\"stack\":[\"019625fa-46e3-7af0-afde-b287cd0c737d\"]}}'"
      ]
     },
     "execution_count": 3,
     "metadata": {},
     "output_type": "execute_result"
    }
   ],
   "source": [
    "import requests\n",
    "headers = {\"Authorization\":f\"Bearer {t}\",\n",
    "                                                                         \"Content-Type\":\"application/json\"}\n",
    "\n",
    "\n",
    "requests.post(\"http://server:8181/management/v1/bootstrap\", headers=headers, json={\"accept-terms-of-use\": True})\n",
    "requests.post(\"http://server:8181/management/v1/warehouse\", headers=headers,\n",
    "                                                            json={\n",
    "                                                                \"warehouse-name\": \"wh3\",\n",
    "                                                                \"storage-profile\": {\n",
    "                \"type\": \"hdfs\",\n",
    "                                                                    \"prefix\":\"/user/hdfs\",\n",
    "                                                                    \"url\": \"hdfs://namenode:8020\"\n",
    "                \n",
    "                                                            }}).content\n",
    "\n",
    "\n"
   ]
  },
  {
   "cell_type": "markdown",
   "metadata": {},
   "source": [
    "# Connect with Spark"
   ]
  },
  {
   "cell_type": "code",
   "execution_count": 5,
   "metadata": {},
   "outputs": [],
   "source": [
    "catalog_name = \"lakekeeper\"\n",
    "config = {\n",
    "    f\"spark.sql.catalog.lakekeeper\": \"org.apache.iceberg.spark.SparkCatalog\",\n",
    "    f\"spark.sql.catalog.lakekeeper.type\": \"rest\",\n",
    "    f\"spark.sql.catalog.lakekeeper.uri\": CATALOG_URL,\n",
    "    f\"spark.sql.catalog.lakekeeper.warehouse\": \"wh3\",\n",
    "    f\"spark.sql.catalog.{catalog_name}.credential\": f\"spark:2OR3eRvYfSZzzZ16MlPd95jhLnOaLM52\",\n",
    "    f\"spark.sql.catalog.{catalog_name}.scope\": \"lakekeeper\",\n",
    "    f\"spark.sql.catalog.{catalog_name}.oauth2-server-uri\": \"http://keycloak:8080/realms/iceberg/protocol/openid-connect/token\",\n",
    "    \"spark.sql.extensions\": \"org.apache.iceberg.spark.extensions.IcebergSparkSessionExtensions\",\n",
    "    \"spark.sql.defaultCatalog\": \"lakekeeper\",\n",
    "    \"spark.jars.packages\": f\"org.apache.iceberg:iceberg-spark-runtime-{SPARK_MINOR_VERSION}_2.12:{ICEBERG_VERSION},org.apache.iceberg:iceberg-aws-bundle:{ICEBERG_VERSION}\",\n",
    "}\n"
   ]
  },
  {
   "cell_type": "code",
   "execution_count": 6,
   "metadata": {},
   "outputs": [
    {
     "data": {
      "text/plain": [
       "DataFrame[]"
      ]
     },
     "execution_count": 6,
     "metadata": {},
     "output_type": "execute_result"
    }
   ],
   "source": [
    "spark_config = SparkConf().setMaster('local').setAppName(\"Iceberg-REST\")\n",
    "for k, v in config.items():\n",
    "    spark_config = spark_config.set(k, v)\n",
    "\n",
    "spark = SparkSession.builder.config(conf=spark_config).getOrCreate()\n",
    "spark.sparkContext.setLogLevel(\"DEBUG\")\n",
    "\n",
    "spark.sql(\"USE lakekeeper\")"
   ]
  },
  {
   "cell_type": "markdown",
   "metadata": {},
   "source": [
    "## Read and Write Tables"
   ]
  },
  {
   "cell_type": "code",
   "execution_count": 7,
   "metadata": {},
   "outputs": [
    {
     "data": {
      "text/html": [
       "<div>\n",
       "<style scoped>\n",
       "    .dataframe tbody tr th:only-of-type {\n",
       "        vertical-align: middle;\n",
       "    }\n",
       "\n",
       "    .dataframe tbody tr th {\n",
       "        vertical-align: top;\n",
       "    }\n",
       "\n",
       "    .dataframe thead th {\n",
       "        text-align: right;\n",
       "    }\n",
       "</style>\n",
       "<table border=\"1\" class=\"dataframe\">\n",
       "  <thead>\n",
       "    <tr style=\"text-align: right;\">\n",
       "      <th></th>\n",
       "      <th>namespace</th>\n",
       "    </tr>\n",
       "  </thead>\n",
       "  <tbody>\n",
       "    <tr>\n",
       "      <th>0</th>\n",
       "      <td>my_namespace</td>\n",
       "    </tr>\n",
       "  </tbody>\n",
       "</table>\n",
       "</div>"
      ],
      "text/plain": [
       "      namespace\n",
       "0  my_namespace"
      ]
     },
     "execution_count": 7,
     "metadata": {},
     "output_type": "execute_result"
    }
   ],
   "source": [
    "spark.sql(f\"CREATE NAMESPACE IF NOT EXISTS my_namespace\")\n",
    "spark.sql(\"SHOW NAMESPACES\").toPandas()"
   ]
  },
  {
   "cell_type": "code",
   "execution_count": 8,
   "metadata": {},
   "outputs": [],
   "source": [
    "data = pd.DataFrame([[1, 'a-string', 2.2]], columns=['id', 'strings', 'floats'])\n",
    "sdf = spark.createDataFrame(data)"
   ]
  },
  {
   "cell_type": "code",
   "execution_count": 9,
   "metadata": {},
   "outputs": [],
   "source": [
    "sdf.writeTo(f\"my_namespace.my_tabl2e\").createOrReplace()"
   ]
  },
  {
   "cell_type": "code",
   "execution_count": 11,
   "metadata": {},
   "outputs": [
    {
     "data": {
      "text/html": [
       "<div>\n",
       "<style scoped>\n",
       "    .dataframe tbody tr th:only-of-type {\n",
       "        vertical-align: middle;\n",
       "    }\n",
       "\n",
       "    .dataframe tbody tr th {\n",
       "        vertical-align: top;\n",
       "    }\n",
       "\n",
       "    .dataframe thead th {\n",
       "        text-align: right;\n",
       "    }\n",
       "</style>\n",
       "<table border=\"1\" class=\"dataframe\">\n",
       "  <thead>\n",
       "    <tr style=\"text-align: right;\">\n",
       "      <th></th>\n",
       "      <th>id</th>\n",
       "      <th>strings</th>\n",
       "      <th>floats</th>\n",
       "    </tr>\n",
       "  </thead>\n",
       "  <tbody>\n",
       "    <tr>\n",
       "      <th>0</th>\n",
       "      <td>1</td>\n",
       "      <td>a-string</td>\n",
       "      <td>2.2</td>\n",
       "    </tr>\n",
       "  </tbody>\n",
       "</table>\n",
       "</div>"
      ],
      "text/plain": [
       "   id   strings  floats\n",
       "0   1  a-string     2.2"
      ]
     },
     "execution_count": 11,
     "metadata": {},
     "output_type": "execute_result"
    }
   ],
   "source": [
    "spark.sql(f\"SELECT * FROM my_namespace.my_tabl2e\").toPandas()"
   ]
  },
  {
   "cell_type": "code",
   "execution_count": 8,
   "metadata": {},
   "outputs": [],
   "source": [
    "import requests"
   ]
  },
  {
   "cell_type": "code",
   "execution_count": 11,
   "metadata": {},
   "outputs": [
    {
     "data": {
      "text/plain": [
       "{'overrides': {'prefix': 'aa93724e-13d3-11f0-940c-079a04f8121a',\n",
       "  's3.signer.uri': 'http://server:8181/catalog/v1/aa93724e-13d3-11f0-940c-079a04f8121a',\n",
       "  'uri': 'http://server:8181/catalog'},\n",
       " 'defaults': {'s3.delete-enabled': 'false'},\n",
       " 'endpoints': ['POST /v1/aws/s3/sign',\n",
       "  'POST /v1/{prefix}/v1/aws/s3/sign',\n",
       "  'GET /v1/config',\n",
       "  'GET /v1/{prefix}/namespaces',\n",
       "  'POST /v1/{prefix}/namespaces',\n",
       "  'GET /v1/{prefix}/namespaces/{namespace}',\n",
       "  'HEAD /v1/{prefix}/namespaces/{namespace}',\n",
       "  'POST /v1/{prefix}/namespaces/{namespace}',\n",
       "  'DELETE /v1/{prefix}/namespaces/{namespace}',\n",
       "  'POST /v1/{prefix}/namespaces/{namespace}/properties',\n",
       "  'GET /v1/{prefix}/namespaces/{namespace}/tables',\n",
       "  'POST /v1/{prefix}/namespaces/{namespace}/tables',\n",
       "  'GET /v1/{prefix}/namespaces/{namespace}/tables/{table}',\n",
       "  'POST /v1/{prefix}/namespaces/{namespace}/tables/{table}',\n",
       "  'DELETE /v1/{prefix}/namespaces/{namespace}/tables/{table}',\n",
       "  'HEAD /v1/{prefix}/namespaces/{namespace}/tables/{table}',\n",
       "  'GET /v1/{prefix}/namespaces/{namespace}/tables/{table}/credentials',\n",
       "  'POST /v1/{prefix}/tables/rename',\n",
       "  'POST /v1/{prefix}/namespaces/{namespace}/register',\n",
       "  'POST /v1/{prefix}/namespaces/{namespace}/tables/{table}/metrics',\n",
       "  'POST /v1/{prefix}/transactions/commit',\n",
       "  'POST /v1/{prefix}/namespaces/{namespace}/views',\n",
       "  'GET /v1/{prefix}/namespaces/{namespace}/views',\n",
       "  'GET /v1/{prefix}/namespaces/{namespace}/views/{view}',\n",
       "  'POST /v1/{prefix}/namespaces/{namespace}/views/{view}',\n",
       "  'DELETE /v1/{prefix}/namespaces/{namespace}/views/{view}',\n",
       "  'HEAD /v1/{prefix}/namespaces/{namespace}/views/{view}',\n",
       "  'POST /v1/{prefix}/views/rename']}"
      ]
     },
     "execution_count": 11,
     "metadata": {},
     "output_type": "execute_result"
    }
   ],
   "source": [
    "requests.get(\"http://server:8181/catalog/v1/config?warehouse=demo\").json()"
   ]
  },
  {
   "cell_type": "code",
   "execution_count": 41,
   "metadata": {},
   "outputs": [
    {
     "data": {
      "text/plain": [
       "{'namespaces': [], 'namespace-uuids': [], 'protection-status': []}"
      ]
     },
     "execution_count": 41,
     "metadata": {},
     "output_type": "execute_result"
    }
   ],
   "source": [
    "requests.get(\"http://server:8181/catalog/v1/aa93724e-13d3-11f0-940c-079a04f8121a/namespaces?returnUuids=true&returnProtectionStatus=true\").json()"
   ]
  },
  {
   "cell_type": "code",
   "execution_count": 32,
   "metadata": {},
   "outputs": [
    {
     "data": {
      "text/plain": [
       "{'protected': True,\n",
       " 'entity_id': '01961142-e903-76f3-a3c9-79bcd35e9d12',\n",
       " 'updated_at': '2025-04-07T18:41:38.332040Z'}"
      ]
     },
     "execution_count": 32,
     "metadata": {},
     "output_type": "execute_result"
    }
   ],
   "source": [
    "requests.post(\"http://server:8181/management/v1/warehouse/aa93724e-13d3-11f0-940c-079a04f8121a/namespace/01961142-e903-76f3-a3c9-79bcd35e9d12/protection\", headers={\"Content-Type\": \"application/json\"}, json={\"protected\": True}).json()\n",
    "\n",
    "\n"
   ]
  },
  {
   "cell_type": "code",
   "execution_count": 35,
   "metadata": {},
   "outputs": [
    {
     "data": {
      "text/plain": [
       "<Response [405]>"
      ]
     },
     "execution_count": 35,
     "metadata": {},
     "output_type": "execute_result"
    }
   ],
   "source": [
    "requests.delete(\"http://server:8181/catalog/v1/aa93724e-13d3-11f0-940c-079a04f8121a/namespaces\")"
   ]
  },
  {
   "cell_type": "code",
   "execution_count": 40,
   "metadata": {},
   "outputs": [
    {
     "data": {
      "text/plain": [
       "b''"
      ]
     },
     "execution_count": 40,
     "metadata": {},
     "output_type": "execute_result"
    }
   ],
   "source": [
    "requests.delete(\"http://server:8181/catalog/v1/aa93724e-13d3-11f0-940c-079a04f8121a/namespaces/my_namespace?recursive=true&force=true\").content\n",
    "\n",
    "\n",
    "\n"
   ]
  },
  {
   "cell_type": "code",
   "execution_count": null,
   "metadata": {},
   "outputs": [],
   "source": []
  }
 ],
 "metadata": {
  "kernelspec": {
   "display_name": "Python 3 (ipykernel)",
   "language": "python",
   "name": "python3"
  },
  "language_info": {
   "codemirror_mode": {
    "name": "ipython",
    "version": 3
   },
   "file_extension": ".py",
   "mimetype": "text/x-python",
   "name": "python",
   "nbconvert_exporter": "python",
   "pygments_lexer": "ipython3",
   "version": "3.11.10"
  }
 },
 "nbformat": 4,
 "nbformat_minor": 4
}
